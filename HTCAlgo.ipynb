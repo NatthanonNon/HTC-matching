{
  "nbformat": 4,
  "nbformat_minor": 0,
  "metadata": {
    "colab": {
      "name": "HTCAlgo.ipynb",
      "provenance": [],
      "collapsed_sections": []
    },
    "kernelspec": {
      "name": "python3",
      "display_name": "Python 3"
    }
  },
  "cells": [
    {
      "cell_type": "code",
      "metadata": {
        "id": "N7Cv2SCMFGD4"
      },
      "source": [
        "import matplotlib.pyplot as plt\n",
        "from tqdm import tqdm\n",
        "import random \n",
        "import copy"
      ],
      "execution_count": null,
      "outputs": []
    },
    {
      "cell_type": "markdown",
      "metadata": {
        "id": "ZcxKjBwTdoNf"
      },
      "source": [
        "#**Random Population**"
      ]
    },
    {
      "cell_type": "code",
      "metadata": {
        "id": "cQpY_B3LFuAN"
      },
      "source": [
        "def randomPopulation(populationNumber, member, activity, manDay):\n",
        "    population = []\n",
        "    for order in range(populationNumber):\n",
        "        population.append(generatePlanner(member, activity, manDay))\n",
        "    return population"
      ],
      "execution_count": null,
      "outputs": []
    },
    {
      "cell_type": "code",
      "metadata": {
        "id": "Avi67BnIWEBM"
      },
      "source": [
        "def generatePlanner(member, activity, manDay):\n",
        "    nMember = len(member)\n",
        "    nActivity = len(activity)\n",
        "    planner = [[] for i in range(nMember)]\n",
        "    activityIndex = [activity for activity in range(nActivity)]*(nMember//nActivity)\n",
        "    for day in range(manDay):\n",
        "        random.shuffle(activityIndex)\n",
        "        for person in range(len(member)):\n",
        "            planner[person].append(activityIndex[person])\n",
        "    return planner"
      ],
      "execution_count": null,
      "outputs": []
    },
    {
      "cell_type": "markdown",
      "metadata": {
        "id": "xqy-pEmDds8J"
      },
      "source": [
        "#**Mutation**"
      ]
    },
    {
      "cell_type": "code",
      "metadata": {
        "id": "-PwrTTABFt44"
      },
      "source": [
        "def mutate(population, activity):\n",
        "    mutation = []\n",
        "    for planner in population:\n",
        "        mutation.append(mutationHelper(planner, activity))\n",
        "    return mutation"
      ],
      "execution_count": null,
      "outputs": []
    },
    {
      "cell_type": "code",
      "metadata": {
        "id": "OZsoj_ytacv4"
      },
      "source": [
        "def mutationHelper(planner, activity):\n",
        "    nMember = len(planner)\n",
        "    manDay = len(planner[0])\n",
        "    mutatedPlanner = copy.deepcopy(planner)\n",
        "    for day in range(manDay):\n",
        "        isMutated = bool(random.getrandbits(1))\n",
        "        if True:\n",
        "            first = random.randrange(0, nMember)\n",
        "            second = random.randrange(0, nMember)\n",
        "            mutatedPlanner[first][day], mutatedPlanner[second][day] = mutatedPlanner[second][day], mutatedPlanner[first][day]\n",
        "    return mutatedPlanner"
      ],
      "execution_count": null,
      "outputs": []
    },
    {
      "cell_type": "markdown",
      "metadata": {
        "id": "OuhLltRvdxGr"
      },
      "source": [
        "#**Cross Over**\n",
        "Between 2 person"
      ]
    },
    {
      "cell_type": "code",
      "metadata": {
        "id": "_6EZN83NFt7K"
      },
      "source": [
        "def crossOver(population):\n",
        "    nMember = len(population[0])\n",
        "    manDay = len(population[0][0])\n",
        "    crossedOver = copy.deepcopy(population)\n",
        "    endPosition = random.randrange(1, manDay)\n",
        "    startPosition = random.randrange(0, endPosition)\n",
        "    for person in range(nMember):\n",
        "        crossedOver[0][person][startPosition : endPosition] = population[1][person][startPosition : endPosition]\n",
        "        crossedOver[1][person][startPosition : endPosition] = population[0][person][startPosition : endPosition]\n",
        "    return crossedOver"
      ],
      "execution_count": null,
      "outputs": []
    },
    {
      "cell_type": "markdown",
      "metadata": {
        "id": "KgqN1Kl3d2rt"
      },
      "source": [
        "#**Selection**"
      ]
    },
    {
      "cell_type": "code",
      "metadata": {
        "id": "Eyw8fn4EFt9x"
      },
      "source": [
        "def select(population, activity):\n",
        "    uniquePopulation = []\n",
        "    for i in population:\n",
        "        if i not in uniquePopulation:\n",
        "            uniquePopulation.append(i)\n",
        "    fitness = []\n",
        "    for planner in uniquePopulation:\n",
        "        fitnessValue = findFitness(planner, activity)\n",
        "        fitness.append((fitnessValue, planner))\n",
        "    fitness.sort()\n",
        "    return fitness[0], [planner for fitnessValue, planner in fitness[:2]]"
      ],
      "execution_count": null,
      "outputs": []
    },
    {
      "cell_type": "code",
      "metadata": {
        "id": "scyqT2-0jF2d"
      },
      "source": [
        "def findFitness(planner, activity):\n",
        "    activityWeight = 1.5\n",
        "    meetingWeight = 1\n",
        "    activityFitness = activityWeight*checkActivityFrequency(planner, activity)\n",
        "    meetingFitness = meetingWeight*checkMeeting(planner, activity)\n",
        "    fitnessValue = activityFitness + meetingFitness\n",
        "    return fitnessValue"
      ],
      "execution_count": null,
      "outputs": []
    },
    {
      "cell_type": "code",
      "metadata": {
        "id": "glBzGgmgmFBk"
      },
      "source": [
        "def checkActivityFrequency(planner, activity):\n",
        "    manDay = len(planner[0])\n",
        "    nActivity = len(activity)\n",
        "    bestFrequency = manDay/nActivity\n",
        "    activityValue = 0\n",
        "    for individualPlanner in planner:\n",
        "        individualActivityList = [0 for i in range(nActivity)]\n",
        "        for day in range(manDay):\n",
        "            act = individualPlanner[day]\n",
        "            individualActivityList[act] += 1\n",
        "        for individualActivity in individualActivityList:\n",
        "            activityValue += abs(individualActivity - bestFrequency)\n",
        "    return activityValue"
      ],
      "execution_count": null,
      "outputs": []
    },
    {
      "cell_type": "code",
      "metadata": {
        "id": "c5-mlTWHmFDq"
      },
      "source": [
        "def checkMeeting(planner, activity):\n",
        "    nMember = len(planner)\n",
        "    nActivity = len(activity)\n",
        "    manDay = len(planner[0])\n",
        "\n",
        "    nCell = nMember*(nMember - 1)/2\n",
        "    nMemberPerAct = nMember/nActivity\n",
        "    nMeeting = nMemberPerAct*(nMemberPerAct - 1)*nActivity*manDay/2\n",
        "    bestMeetingValue = nMeeting/nCell\n",
        "\n",
        "    # bestMeetingValue = manDay/nActivity\n",
        "\n",
        "    filledMeetingTable = fillInMeetingTable(planner, activity)\n",
        "    meetingValue = 0\n",
        "    for key, value in filledMeetingTable.items():\n",
        "        for subKey, subValue in filledMeetingTable[key].items():\n",
        "            meetingValue += abs(subValue - bestMeetingValue)\n",
        "    return meetingValue"
      ],
      "execution_count": null,
      "outputs": []
    },
    {
      "cell_type": "code",
      "metadata": {
        "id": "laREIKPJ3soG"
      },
      "source": [
        "def fillInMeetingTable(planner, activity):\n",
        "    nMember = len(planner)\n",
        "    nActivity = len(activity)\n",
        "    manDay = len(planner[0])\n",
        "    filledMeetingTable = createEmptyMeetingTable(nMember, activity, manDay)\n",
        "    memberActivityList = []\n",
        "    for day in range(manDay):\n",
        "        memberActivityList = [[] for i in range(nActivity)]\n",
        "        for person in range(nMember):\n",
        "            act = planner[person][day]\n",
        "            memberActivityList[act].append(person)\n",
        "        filledMeetingTable = fillInMeetingTableHelper(filledMeetingTable, memberActivityList)\n",
        "    return filledMeetingTable"
      ],
      "execution_count": null,
      "outputs": []
    },
    {
      "cell_type": "code",
      "metadata": {
        "id": "x6H_0UnO1fON"
      },
      "source": [
        "def createEmptyMeetingTable(nMember, activity, manDay):\n",
        "    nActivity = len(activity)\n",
        "    emptyMeetingTable = {person : {remainingPerson : 0 for remainingPerson in range(person+1, nMember)} for person in range(nMember - 1)}\n",
        "    return emptyMeetingTable"
      ],
      "execution_count": null,
      "outputs": []
    },
    {
      "cell_type": "code",
      "metadata": {
        "id": "mfzhR0ES4Prc"
      },
      "source": [
        "def fillInMeetingTableHelper(filledMeetingTable, memberActivityList):\n",
        "    for activity in memberActivityList:\n",
        "        activity.sort()\n",
        "        nPeople = len(activity)\n",
        "        for personIndex in range(nPeople - 1):\n",
        "            person = activity[personIndex]\n",
        "            for remainingPersonIndex in range(personIndex + 1, nPeople):\n",
        "                remainingPerson = activity[remainingPersonIndex]\n",
        "                filledMeetingTable[person][remainingPerson] += 1\n",
        "    return filledMeetingTable"
      ],
      "execution_count": null,
      "outputs": []
    },
    {
      "cell_type": "markdown",
      "metadata": {
        "id": "EfvwXktHXFVf"
      },
      "source": [
        "#**Main**"
      ]
    },
    {
      "cell_type": "code",
      "metadata": {
        "id": "tydiI9CqVg_E"
      },
      "source": [
        "def main(populationNumber, member, activity, manDay):\n",
        "    population = randomPopulation(populationNumber, member, activity, manDay)\n",
        "    bestPlanner = (99999, None)\n",
        "    for round in range(10000):\n",
        "        mutation = mutate(population, activity)\n",
        "        crossedOver = crossOver(population)\n",
        "        challengedPlanner, population = select(population + mutation + crossedOver, activity)\n",
        "        if challengedPlanner[0] < bestPlanner[0]:\n",
        "            bestPlanner = challengedPlanner\n",
        "        if bestPlanner[0] == 0:\n",
        "            print()\n",
        "            print(\"Found Best Planner At round \", round, \" : \", bestPlanner, end = \"\\n\")\n",
        "            return bestPlanner\n",
        "        if round % 1000 == 0:\n",
        "            print()\n",
        "            print(round, bestPlanner, end = \"\\n\")\n",
        "    return bestPlanner"
      ],
      "execution_count": null,
      "outputs": []
    },
    {
      "cell_type": "markdown",
      "metadata": {
        "id": "__Z8R9qocLA8"
      },
      "source": [
        "#**Visualization**"
      ]
    },
    {
      "cell_type": "code",
      "metadata": {
        "id": "MIz9YXDjcNUk"
      },
      "source": [
        "def visualizeActivityFrezuency(planner, activity, member):\n",
        "    nMember = len(member)\n",
        "    differentValue = visualizeActivityFrezuencyHelper(planner, activity)\n",
        "    nGraph = len(differentValue[0]) - 1\n",
        "    names = member\n",
        "    fig = plt.figure(figsize=(20, 5))\n",
        "    fig.suptitle(\"Different Activity Frezuency\", fontsize=20)\n",
        "    for graph in range(nGraph):\n",
        "        index = graph + 1\n",
        "        values = []\n",
        "        for person in range(nMember):\n",
        "            values.append(differentValue[person][index])\n",
        "        pic = fig.add_subplot(1, nGraph, index)\n",
        "        pic.set_title(\"Different = \" + \"{}\".format(index))\n",
        "        pic.scatter(names, values)\n",
        "    plt.show()"
      ],
      "execution_count": null,
      "outputs": []
    },
    {
      "cell_type": "code",
      "metadata": {
        "id": "qUNYcn4nmZdq"
      },
      "source": [
        "def visualizeActivityFrezuencyHelper(planner, activity):\n",
        "    nMember = len(planner)\n",
        "    manDay = len(planner[0])\n",
        "    nActivity = len(activity)\n",
        "    bestFrequency = round(manDay/nActivity)\n",
        "    print(\"bestFrequency = \", bestFrequency)\n",
        "    differentValue = [[0 for j in range(manDay)] for i in range(nMember)]\n",
        "    for person in range(nMember):\n",
        "        individualActivityList = [0 for i in range(nActivity)]\n",
        "        for day in range(manDay):\n",
        "            individualPlanner = planner[person]\n",
        "            act = individualPlanner[day]\n",
        "            individualActivityList[act] += 1\n",
        "        for individualActivity in individualActivityList:\n",
        "            activityValue = abs(individualActivity - bestFrequency)\n",
        "            differentValue[person][activityValue] += 1\n",
        "            \n",
        "    return differentValue"
      ],
      "execution_count": null,
      "outputs": []
    },
    {
      "cell_type": "markdown",
      "metadata": {
        "id": "-bb5e4L6d-xW"
      },
      "source": [
        "#**Testing Ideal**"
      ]
    },
    {
      "cell_type": "code",
      "metadata": {
        "id": "RyV2atLD-ORD"
      },
      "source": [
        "idealPlanner = [[0, 1, 0, 0, 1, 1], \n",
        "                [0, 0, 1, 1, 0, 1], \n",
        "                [1, 1, 1, 0, 0, 0], \n",
        "                [1, 0, 0, 1, 1, 0]]"
      ],
      "execution_count": null,
      "outputs": []
    },
    {
      "cell_type": "code",
      "metadata": {
        "id": "XQY-X29WDGwL"
      },
      "source": [
        "member = [\"A\", \"B\", \"C\", \"D\"]\n",
        "activity = [\"I\", \"II\"]\n",
        "manDay = 6\n",
        "populationNumber = 2"
      ],
      "execution_count": null,
      "outputs": []
    },
    {
      "cell_type": "code",
      "metadata": {
        "id": "yiA0IrA0J4Ak",
        "colab": {
          "base_uri": "https://localhost:8080/"
        },
        "outputId": "793f8169-46f4-48dc-9ebd-5b06d90e5555"
      },
      "source": [
        "bestPlanner = main(populationNumber, member, activity, manDay)"
      ],
      "execution_count": null,
      "outputs": [
        {
          "output_type": "stream",
          "text": [
            "\n",
            "0 (10.0, [[1, 1, 0, 0, 0, 0], [0, 0, 1, 1, 1, 0], [1, 0, 0, 0, 1, 1], [0, 1, 1, 1, 0, 1]])\n",
            "\n",
            "Found Best Planner At round  44  :  (0.0, [[0, 1, 0, 1, 0, 1], [1, 0, 1, 0, 0, 1], [0, 1, 1, 0, 1, 0], [1, 0, 0, 1, 1, 0]])\n"
          ],
          "name": "stdout"
        }
      ]
    },
    {
      "cell_type": "code",
      "metadata": {
        "id": "CjIpSc5n-WHr",
        "colab": {
          "base_uri": "https://localhost:8080/"
        },
        "outputId": "5c352c3d-c8ca-449c-f923-2a8906c90edd"
      },
      "source": [
        "bestPlanner"
      ],
      "execution_count": null,
      "outputs": [
        {
          "output_type": "execute_result",
          "data": {
            "text/plain": [
              "(0.0,\n",
              " [[0, 1, 0, 1, 0, 1],\n",
              "  [1, 0, 1, 0, 0, 1],\n",
              "  [0, 1, 1, 0, 1, 0],\n",
              "  [1, 0, 0, 1, 1, 0]])"
            ]
          },
          "metadata": {
            "tags": []
          },
          "execution_count": 20
        }
      ]
    },
    {
      "cell_type": "code",
      "metadata": {
        "id": "Lgo93kv3pUCy",
        "colab": {
          "base_uri": "https://localhost:8080/"
        },
        "outputId": "7f039d64-829e-42bd-9480-a60682c904c9"
      },
      "source": [
        "visualizeActivityFrezuencyHelper(idealPlanner, activity)"
      ],
      "execution_count": null,
      "outputs": [
        {
          "output_type": "stream",
          "text": [
            "bestFrequency =  3\n"
          ],
          "name": "stdout"
        },
        {
          "output_type": "execute_result",
          "data": {
            "text/plain": [
              "[[2, 0, 0, 0, 0, 0],\n",
              " [2, 0, 0, 0, 0, 0],\n",
              " [2, 0, 0, 0, 0, 0],\n",
              " [2, 0, 0, 0, 0, 0]]"
            ]
          },
          "metadata": {
            "tags": []
          },
          "execution_count": 21
        }
      ]
    },
    {
      "cell_type": "code",
      "metadata": {
        "id": "LfJqCla9sA8J",
        "colab": {
          "base_uri": "https://localhost:8080/",
          "height": 373
        },
        "outputId": "2f5c0eec-dcbb-4837-ef03-6bd0f3a562d2"
      },
      "source": [
        "visualizeActivityFrezuency(idealPlanner, activity, member)"
      ],
      "execution_count": null,
      "outputs": [
        {
          "output_type": "stream",
          "text": [
            "bestFrequency =  3\n"
          ],
          "name": "stdout"
        },
        {
          "output_type": "display_data",
          "data": {
            "image/png": "[encoded data removed]",
            "text/plain": [
              "<Figure size 1440x360 with 5 Axes>"
            ]
          },
          "metadata": {
            "tags": [],
            "needs_background": "light"
          }
        }
      ]
    },
    {
      "cell_type": "code",
      "metadata": {
        "id": "LaAiZ_CkEICc",
        "colab": {
          "base_uri": "https://localhost:8080/"
        },
        "outputId": "a56301b2-b405-48ef-ebd5-3ecfd7a399e9"
      },
      "source": [
        "findFitness(idealPlanner, activity)"
      ],
      "execution_count": null,
      "outputs": [
        {
          "output_type": "execute_result",
          "data": {
            "text/plain": [
              "0.0"
            ]
          },
          "metadata": {
            "tags": []
          },
          "execution_count": 23
        }
      ]
    },
    {
      "cell_type": "code",
      "metadata": {
        "id": "VMyBVZpF95tS",
        "colab": {
          "base_uri": "https://localhost:8080/"
        },
        "outputId": "5cde0cb1-8516-41ed-cef2-ece800a4472f"
      },
      "source": [
        "fillInMeetingTable(bestPlanner[1], activity)"
      ],
      "execution_count": null,
      "outputs": [
        {
          "output_type": "execute_result",
          "data": {
            "text/plain": [
              "{0: {1: 2, 2: 2, 3: 2}, 1: {2: 2, 3: 2}, 2: {3: 2}}"
            ]
          },
          "metadata": {
            "tags": []
          },
          "execution_count": 24
        }
      ]
    },
    {
      "cell_type": "markdown",
      "metadata": {
        "id": "AYo3Qr8BZ3s6"
      },
      "source": [
        "#**Testing Real World**"
      ]
    },
    {
      "cell_type": "code",
      "metadata": {
        "id": "9AUnbiEpJsUW"
      },
      "source": [
        "# member = [\"A\", \"B\", \"C\", \"D\", \"E\", \"F\", \"G\", \"H\", \"I\"]\n",
        "# activity = [\"I\", \"II\", \"III\"]\n",
        "# manDay = 5\n",
        "# populationNumber = 2"
      ],
      "execution_count": null,
      "outputs": []
    },
    {
      "cell_type": "code",
      "metadata": {
        "id": "C2O_e0pcFuCi"
      },
      "source": [
        "member = [\"A\", \"B\", \"C\", \"D\", \"E\", \"F\", \"G\", \"H\", \"I\", \"J\", \"K\", \"L\", \"M\", \"N\", \"O\", \"P\", \"Q\", \"R\", \"S\", \"T\", \"U\", \"V\", \"W\", \"X\"]\n",
        "activity = [\"I\", \"II\", \"III\", \"IV\"]\n",
        "manDay = 10\n",
        "populationNumber = 2"
      ],
      "execution_count": null,
      "outputs": []
    },
    {
      "cell_type": "code",
      "metadata": {
        "id": "xYLL5eKoMg8T",
        "colab": {
          "base_uri": "https://localhost:8080/"
        },
        "outputId": "e763baf0-96ac-4a5a-914c-a4517f866637"
      },
      "source": [
        "len(member)"
      ],
      "execution_count": null,
      "outputs": [
        {
          "output_type": "execute_result",
          "data": {
            "text/plain": [
              "24"
            ]
          },
          "metadata": {
            "tags": []
          },
          "execution_count": 27
        }
      ]
    },
    {
      "cell_type": "code",
      "metadata": {
        "id": "8BWnUAyHYtKr",
        "colab": {
          "base_uri": "https://localhost:8080/"
        },
        "outputId": "603065fd-8013-4737-94cb-b7ad20eadda8"
      },
      "source": [
        "bestPlanner = main(populationNumber, member, activity, manDay)"
      ],
      "execution_count": null,
      "outputs": [
        {
          "output_type": "stream",
          "text": [
            "\n",
            "0 (452.760869565217, [[3, 3, 2, 2, 2, 2, 0, 1, 1, 3], [3, 1, 2, 3, 3, 1, 1, 2, 1, 0], [0, 1, 3, 2, 2, 0, 0, 3, 1, 0], [1, 0, 1, 1, 0, 2, 3, 2, 3, 3], [3, 1, 0, 0, 3, 0, 1, 3, 1, 0], [0, 3, 2, 2, 0, 1, 2, 0, 1, 0], [3, 2, 3, 1, 2, 2, 0, 3, 3, 1], [1, 2, 1, 0, 2, 0, 1, 1, 1, 1], [0, 3, 2, 3, 2, 3, 3, 0, 3, 3], [2, 1, 3, 2, 1, 3, 0, 2, 2, 3], [2, 2, 2, 2, 0, 2, 3, 1, 0, 1], [2, 1, 3, 3, 3, 3, 2, 2, 2, 3], [1, 0, 1, 0, 0, 1, 2, 2, 3, 3], [2, 0, 2, 1, 3, 2, 2, 3, 2, 2], [1, 0, 3, 2, 0, 1, 3, 0, 2, 2], [1, 2, 1, 1, 0, 0, 1, 1, 2, 2], [2, 0, 0, 1, 1, 3, 2, 3, 2, 1], [1, 1, 0, 3, 2, 0, 1, 0, 0, 2], [0, 3, 1, 1, 1, 2, 2, 0, 0, 2], [3, 3, 1, 3, 3, 3, 3, 2, 0, 2], [0, 2, 3, 3, 1, 1, 0, 3, 3, 1], [2, 0, 0, 0, 1, 3, 3, 1, 0, 0], [0, 3, 0, 0, 3, 0, 1, 1, 3, 1], [3, 2, 0, 0, 1, 1, 0, 0, 0, 0]])\n",
            "\n",
            "1000 (327.10869565217354, [[3, 3, 0, 0, 1, 3, 1, 1, 1, 2], [1, 1, 2, 0, 1, 0, 3, 3, 2, 2], [0, 3, 3, 1, 2, 0, 1, 0, 0, 2], [0, 2, 1, 0, 2, 2, 0, 1, 1, 3], [0, 1, 0, 3, 0, 1, 1, 2, 3, 3], [3, 3, 2, 2, 0, 1, 1, 3, 0, 1], [3, 2, 3, 1, 0, 1, 2, 3, 2, 3], [1, 0, 1, 2, 0, 2, 2, 3, 0, 0], [1, 3, 2, 3, 2, 2, 0, 0, 1, 3], [2, 1, 3, 0, 3, 2, 1, 0, 2, 3], [2, 0, 2, 1, 1, 3, 0, 3, 2, 0], [0, 1, 3, 2, 2, 3, 3, 2, 0, 0], [0, 2, 1, 2, 3, 1, 3, 0, 3, 2], [3, 0, 2, 2, 1, 0, 0, 1, 3, 1], [3, 2, 3, 1, 1, 2, 0, 2, 1, 0], [2, 0, 1, 1, 0, 3, 3, 3, 1, 1], [1, 2, 0, 0, 2, 3, 3, 0, 3, 0], [2, 1, 0, 1, 3, 3, 2, 0, 0, 1], [3, 3, 1, 3, 3, 0, 2, 2, 3, 0], [0, 3, 0, 3, 1, 0, 2, 2, 2, 1], [1, 2, 3, 3, 3, 2, 1, 1, 2, 1], [2, 0, 2, 2, 2, 1, 2, 1, 3, 3], [2, 1, 1, 3, 0, 0, 3, 1, 1, 2], [1, 0, 0, 0, 3, 1, 0, 2, 0, 2]])\n",
            "\n",
            "2000 (313.73913043478245, [[3, 3, 0, 0, 2, 3, 1, 1, 1, 2], [1, 1, 2, 0, 1, 0, 3, 3, 2, 2], [0, 3, 3, 1, 1, 1, 1, 0, 0, 2], [0, 2, 1, 0, 2, 2, 0, 1, 1, 3], [0, 1, 0, 3, 0, 0, 1, 2, 3, 3], [3, 3, 2, 2, 0, 1, 1, 3, 0, 1], [3, 2, 3, 1, 0, 1, 2, 3, 2, 3], [1, 0, 1, 0, 0, 2, 2, 3, 0, 0], [1, 3, 2, 3, 2, 2, 0, 0, 1, 3], [2, 1, 3, 0, 3, 2, 1, 0, 2, 1], [2, 0, 2, 1, 1, 3, 0, 3, 2, 3], [0, 1, 3, 2, 2, 3, 3, 2, 0, 0], [0, 2, 1, 2, 3, 1, 3, 0, 3, 2], [3, 0, 3, 2, 1, 0, 0, 1, 3, 1], [3, 2, 2, 1, 1, 2, 0, 2, 3, 0], [2, 0, 1, 1, 0, 3, 3, 2, 1, 1], [1, 2, 0, 2, 2, 3, 3, 0, 3, 0], [2, 1, 0, 1, 3, 3, 2, 0, 0, 1], [3, 3, 1, 3, 3, 0, 2, 2, 1, 0], [0, 3, 0, 3, 1, 0, 2, 3, 2, 1], [1, 2, 3, 3, 3, 2, 1, 1, 2, 0], [2, 0, 2, 2, 2, 1, 2, 1, 3, 3], [2, 1, 1, 3, 0, 0, 3, 1, 1, 2], [1, 0, 0, 0, 3, 1, 0, 2, 0, 2]])\n",
            "\n",
            "3000 (301.7826086956519, [[3, 3, 0, 0, 2, 3, 1, 1, 1, 2], [1, 1, 2, 0, 1, 0, 3, 3, 2, 2], [0, 2, 3, 1, 1, 1, 1, 0, 0, 2], [0, 2, 1, 0, 2, 2, 0, 3, 1, 3], [0, 1, 0, 3, 0, 0, 1, 2, 3, 3], [3, 3, 2, 2, 0, 0, 1, 3, 0, 1], [3, 2, 3, 1, 0, 1, 2, 3, 2, 3], [1, 0, 1, 0, 0, 2, 2, 3, 0, 0], [1, 3, 2, 3, 2, 2, 3, 0, 1, 3], [2, 1, 3, 0, 3, 2, 1, 0, 2, 1], [2, 0, 2, 1, 1, 3, 0, 1, 2, 3], [0, 1, 3, 2, 2, 3, 3, 2, 0, 0], [0, 2, 1, 2, 3, 1, 0, 0, 3, 2], [3, 0, 3, 2, 2, 0, 0, 1, 3, 1], [3, 3, 2, 1, 1, 2, 0, 2, 3, 0], [2, 0, 1, 1, 0, 3, 3, 2, 1, 1], [1, 2, 0, 2, 1, 3, 3, 0, 3, 0], [2, 1, 0, 1, 3, 3, 2, 0, 0, 1], [3, 3, 1, 3, 3, 0, 2, 2, 1, 0], [0, 3, 0, 3, 1, 1, 2, 3, 2, 1], [1, 2, 3, 3, 3, 2, 1, 1, 2, 0], [2, 0, 2, 2, 2, 1, 2, 1, 3, 3], [2, 1, 1, 3, 0, 0, 3, 1, 1, 2], [1, 0, 0, 0, 3, 1, 0, 2, 0, 2]])\n",
            "\n",
            "4000 (301.7826086956519, [[3, 3, 0, 0, 2, 3, 1, 1, 1, 2], [1, 1, 2, 0, 1, 0, 3, 3, 2, 2], [0, 2, 3, 1, 1, 1, 1, 0, 0, 2], [0, 2, 1, 0, 2, 2, 0, 3, 1, 3], [0, 1, 0, 3, 0, 0, 1, 2, 3, 3], [3, 3, 2, 2, 0, 0, 1, 3, 0, 1], [3, 2, 3, 1, 0, 1, 2, 3, 2, 3], [1, 0, 1, 0, 0, 2, 2, 3, 0, 0], [1, 3, 2, 3, 2, 2, 3, 0, 1, 3], [2, 1, 3, 0, 3, 2, 1, 0, 2, 1], [2, 0, 2, 1, 1, 3, 0, 1, 2, 3], [0, 1, 3, 2, 2, 3, 3, 2, 0, 0], [0, 2, 1, 2, 3, 1, 0, 0, 3, 2], [3, 0, 3, 2, 2, 0, 0, 1, 3, 1], [3, 3, 2, 1, 1, 2, 0, 2, 3, 0], [2, 0, 1, 1, 0, 3, 3, 2, 1, 1], [1, 2, 0, 2, 1, 3, 3, 0, 3, 0], [2, 1, 0, 1, 3, 3, 2, 0, 0, 1], [3, 3, 1, 3, 3, 0, 2, 2, 1, 0], [0, 3, 0, 3, 1, 1, 2, 3, 2, 1], [1, 2, 3, 3, 3, 2, 1, 1, 2, 0], [2, 0, 2, 2, 2, 1, 2, 1, 3, 3], [2, 1, 1, 3, 0, 0, 3, 1, 1, 2], [1, 0, 0, 0, 3, 1, 0, 2, 0, 2]])\n",
            "\n",
            "5000 (297.1304347826084, [[3, 3, 0, 0, 2, 3, 1, 1, 1, 2], [1, 1, 2, 0, 1, 0, 3, 3, 2, 2], [0, 2, 3, 1, 1, 1, 1, 0, 0, 2], [0, 2, 1, 0, 2, 2, 0, 3, 1, 3], [0, 1, 0, 3, 0, 0, 1, 2, 3, 3], [3, 3, 2, 2, 0, 0, 1, 3, 0, 1], [3, 2, 3, 1, 0, 1, 2, 0, 2, 3], [1, 0, 1, 0, 0, 2, 2, 3, 0, 0], [1, 3, 2, 3, 2, 2, 3, 0, 1, 3], [2, 1, 3, 0, 3, 2, 1, 0, 2, 1], [2, 0, 2, 1, 1, 3, 0, 1, 2, 3], [0, 1, 3, 2, 2, 3, 3, 2, 0, 0], [0, 2, 1, 2, 3, 1, 0, 0, 3, 2], [3, 0, 3, 2, 2, 0, 0, 1, 3, 1], [3, 3, 2, 1, 1, 2, 0, 2, 3, 0], [2, 0, 1, 1, 0, 3, 3, 2, 1, 1], [1, 2, 0, 2, 1, 3, 3, 0, 3, 0], [2, 1, 0, 1, 3, 3, 2, 3, 0, 1], [3, 3, 1, 3, 3, 0, 2, 2, 1, 0], [0, 3, 0, 3, 1, 1, 2, 3, 2, 1], [1, 2, 3, 3, 3, 2, 1, 1, 2, 0], [2, 0, 2, 2, 2, 1, 2, 1, 3, 3], [2, 1, 1, 3, 0, 0, 3, 1, 1, 2], [1, 0, 0, 0, 3, 1, 0, 2, 0, 2]])\n",
            "\n",
            "6000 (297.1304347826084, [[3, 3, 0, 0, 2, 3, 1, 1, 1, 2], [1, 1, 2, 0, 1, 0, 3, 3, 2, 2], [0, 2, 3, 1, 1, 1, 1, 0, 0, 2], [0, 2, 1, 0, 2, 2, 0, 3, 1, 3], [0, 1, 0, 3, 0, 0, 1, 2, 3, 3], [3, 3, 2, 2, 0, 0, 1, 3, 0, 1], [3, 2, 3, 1, 0, 1, 2, 0, 2, 3], [1, 0, 1, 0, 0, 2, 2, 3, 0, 0], [1, 3, 2, 3, 2, 2, 3, 0, 1, 3], [2, 1, 3, 0, 3, 2, 1, 0, 2, 1], [2, 0, 2, 1, 1, 3, 0, 1, 2, 3], [0, 1, 3, 2, 2, 3, 3, 2, 0, 0], [0, 2, 1, 2, 3, 1, 0, 0, 3, 2], [3, 0, 3, 2, 2, 0, 0, 1, 3, 1], [3, 3, 2, 1, 1, 2, 0, 2, 3, 0], [2, 0, 1, 1, 0, 3, 3, 2, 1, 1], [1, 2, 0, 2, 1, 3, 3, 0, 3, 0], [2, 1, 0, 1, 3, 3, 2, 3, 0, 1], [3, 3, 1, 3, 3, 0, 2, 2, 1, 0], [0, 3, 0, 3, 1, 1, 2, 3, 2, 1], [1, 2, 3, 3, 3, 2, 1, 1, 2, 0], [2, 0, 2, 2, 2, 1, 2, 1, 3, 3], [2, 1, 1, 3, 0, 0, 3, 1, 1, 2], [1, 0, 0, 0, 3, 1, 0, 2, 0, 2]])\n",
            "\n",
            "7000 (297.1304347826084, [[3, 3, 0, 0, 2, 3, 1, 1, 1, 2], [1, 1, 2, 0, 1, 0, 3, 3, 2, 2], [0, 2, 3, 1, 1, 1, 1, 0, 0, 2], [0, 2, 1, 0, 2, 2, 0, 3, 1, 3], [0, 1, 0, 3, 0, 0, 1, 2, 3, 3], [3, 3, 2, 2, 0, 0, 1, 3, 0, 1], [3, 2, 3, 1, 0, 1, 2, 0, 2, 3], [1, 0, 1, 0, 0, 2, 2, 3, 0, 0], [1, 3, 2, 3, 2, 2, 3, 0, 1, 3], [2, 1, 3, 0, 3, 2, 1, 0, 2, 1], [2, 0, 2, 1, 1, 3, 0, 1, 2, 3], [0, 1, 3, 2, 2, 3, 3, 2, 0, 0], [0, 2, 1, 2, 3, 1, 0, 0, 3, 2], [3, 0, 3, 2, 2, 0, 0, 1, 3, 1], [3, 3, 2, 1, 1, 2, 0, 2, 3, 0], [2, 0, 1, 1, 0, 3, 3, 2, 1, 1], [1, 2, 0, 2, 1, 3, 3, 0, 3, 0], [2, 1, 0, 1, 3, 3, 2, 3, 0, 1], [3, 3, 1, 3, 3, 0, 2, 2, 1, 0], [0, 3, 0, 3, 1, 1, 2, 3, 2, 1], [1, 2, 3, 3, 3, 2, 1, 1, 2, 0], [2, 0, 2, 2, 2, 1, 2, 1, 3, 3], [2, 1, 1, 3, 0, 0, 3, 1, 1, 2], [1, 0, 0, 0, 3, 1, 0, 2, 0, 2]])\n",
            "\n",
            "8000 (297.1304347826084, [[3, 3, 0, 0, 2, 3, 1, 1, 1, 2], [1, 1, 2, 0, 1, 0, 3, 3, 2, 2], [0, 2, 3, 1, 1, 1, 1, 0, 0, 2], [0, 2, 1, 0, 2, 2, 0, 3, 1, 3], [0, 1, 0, 3, 0, 0, 1, 2, 3, 3], [3, 3, 2, 2, 0, 0, 1, 3, 0, 1], [3, 2, 3, 1, 0, 1, 2, 0, 2, 3], [1, 0, 1, 0, 0, 2, 2, 3, 0, 0], [1, 3, 2, 3, 2, 2, 3, 0, 1, 3], [2, 1, 3, 0, 3, 2, 1, 0, 2, 1], [2, 0, 2, 1, 1, 3, 0, 1, 2, 3], [0, 1, 3, 2, 2, 3, 3, 2, 0, 0], [0, 2, 1, 2, 3, 1, 0, 0, 3, 2], [3, 0, 3, 2, 2, 0, 0, 1, 3, 1], [3, 3, 2, 1, 1, 2, 0, 2, 3, 0], [2, 0, 1, 1, 0, 3, 3, 2, 1, 1], [1, 2, 0, 2, 1, 3, 3, 0, 3, 0], [2, 1, 0, 1, 3, 3, 2, 3, 0, 1], [3, 3, 1, 3, 3, 0, 2, 2, 1, 0], [0, 3, 0, 3, 1, 1, 2, 3, 2, 1], [1, 2, 3, 3, 3, 2, 1, 1, 2, 0], [2, 0, 2, 2, 2, 1, 2, 1, 3, 3], [2, 1, 1, 3, 0, 0, 3, 1, 1, 2], [1, 0, 0, 0, 3, 1, 0, 2, 0, 2]])\n",
            "\n",
            "9000 (294.3260869565215, [[3, 3, 0, 0, 2, 3, 1, 1, 1, 2], [1, 1, 2, 0, 1, 0, 3, 3, 2, 2], [3, 2, 3, 1, 1, 1, 1, 0, 0, 2], [0, 2, 1, 0, 2, 2, 0, 3, 1, 3], [0, 1, 0, 3, 0, 0, 1, 2, 3, 3], [3, 2, 2, 2, 0, 0, 1, 3, 0, 1], [0, 3, 3, 1, 0, 1, 2, 0, 2, 3], [1, 0, 1, 0, 0, 2, 2, 3, 0, 0], [1, 3, 2, 3, 2, 2, 3, 0, 1, 3], [2, 1, 3, 0, 3, 2, 1, 0, 2, 1], [2, 0, 2, 1, 1, 3, 0, 1, 2, 3], [0, 1, 3, 2, 2, 3, 3, 2, 0, 0], [0, 2, 1, 2, 3, 1, 0, 0, 3, 2], [3, 0, 3, 2, 2, 0, 0, 1, 3, 1], [3, 3, 2, 1, 1, 2, 0, 2, 3, 0], [2, 0, 1, 1, 0, 3, 3, 2, 1, 1], [1, 2, 0, 2, 1, 3, 3, 0, 3, 0], [2, 1, 0, 1, 3, 3, 2, 3, 0, 1], [3, 3, 1, 3, 3, 0, 2, 2, 1, 0], [0, 3, 0, 3, 1, 1, 2, 3, 2, 1], [1, 2, 3, 3, 3, 2, 1, 1, 2, 0], [2, 0, 2, 2, 2, 1, 2, 1, 3, 3], [2, 1, 1, 3, 0, 0, 3, 1, 1, 2], [1, 0, 0, 0, 3, 1, 0, 2, 0, 2]])\n"
          ],
          "name": "stdout"
        }
      ]
    },
    {
      "cell_type": "code",
      "metadata": {
        "id": "jYpOTh_TYtK6",
        "colab": {
          "base_uri": "https://localhost:8080/"
        },
        "outputId": "8eaddba2-0e46-469d-dcf8-f5d495db49b3"
      },
      "source": [
        "bestPlanner"
      ],
      "execution_count": null,
      "outputs": [
        {
          "output_type": "execute_result",
          "data": {
            "text/plain": [
              "(294.3260869565215,\n",
              " [[3, 3, 0, 0, 2, 3, 1, 1, 1, 2],\n",
              "  [1, 1, 2, 0, 1, 0, 3, 3, 2, 2],\n",
              "  [3, 2, 3, 1, 1, 1, 1, 0, 0, 2],\n",
              "  [0, 2, 1, 0, 2, 2, 0, 3, 1, 3],\n",
              "  [0, 1, 0, 3, 0, 0, 1, 2, 3, 3],\n",
              "  [3, 2, 2, 2, 0, 0, 1, 3, 0, 1],\n",
              "  [0, 3, 3, 1, 0, 1, 2, 0, 2, 3],\n",
              "  [1, 0, 1, 0, 0, 2, 2, 3, 0, 0],\n",
              "  [1, 3, 2, 3, 2, 2, 3, 0, 1, 3],\n",
              "  [2, 1, 3, 0, 3, 2, 1, 0, 2, 1],\n",
              "  [2, 0, 2, 1, 1, 3, 0, 1, 2, 3],\n",
              "  [0, 1, 3, 2, 2, 3, 3, 2, 0, 0],\n",
              "  [0, 2, 1, 2, 3, 1, 0, 0, 3, 2],\n",
              "  [3, 0, 3, 2, 2, 0, 0, 1, 3, 1],\n",
              "  [3, 3, 2, 1, 1, 2, 0, 2, 3, 0],\n",
              "  [2, 0, 1, 1, 0, 3, 3, 2, 1, 1],\n",
              "  [1, 2, 0, 2, 1, 3, 3, 0, 3, 0],\n",
              "  [2, 1, 0, 1, 3, 3, 2, 3, 0, 1],\n",
              "  [3, 3, 1, 3, 3, 0, 2, 2, 1, 0],\n",
              "  [0, 3, 0, 3, 1, 1, 2, 3, 2, 1],\n",
              "  [1, 2, 3, 3, 3, 2, 1, 1, 2, 0],\n",
              "  [2, 0, 2, 2, 2, 1, 2, 1, 3, 3],\n",
              "  [2, 1, 1, 3, 0, 0, 3, 1, 1, 2],\n",
              "  [1, 0, 0, 0, 3, 1, 0, 2, 0, 2]])"
            ]
          },
          "metadata": {
            "tags": []
          },
          "execution_count": 29
        }
      ]
    },
    {
      "cell_type": "code",
      "metadata": {
        "id": "A_Sj7L9mwh9L",
        "colab": {
          "base_uri": "https://localhost:8080/"
        },
        "outputId": "51cba3bf-e792-40ce-b58d-5149eb9f613e"
      },
      "source": [
        "visualizeActivityFrezuencyHelper(bestPlanner[1], activity)"
      ],
      "execution_count": null,
      "outputs": [
        {
          "output_type": "stream",
          "text": [
            "bestFrequency =  2\n"
          ],
          "name": "stdout"
        },
        {
          "output_type": "execute_result",
          "data": {
            "text/plain": [
              "[[2, 2, 0, 0, 0, 0, 0, 0, 0, 0],\n",
              " [2, 2, 0, 0, 0, 0, 0, 0, 0, 0],\n",
              " [3, 0, 1, 0, 0, 0, 0, 0, 0, 0],\n",
              " [2, 2, 0, 0, 0, 0, 0, 0, 0, 0],\n",
              " [1, 2, 1, 0, 0, 0, 0, 0, 0, 0],\n",
              " [2, 2, 0, 0, 0, 0, 0, 0, 0, 0],\n",
              " [2, 2, 0, 0, 0, 0, 0, 0, 0, 0],\n",
              " [2, 1, 0, 1, 0, 0, 0, 0, 0, 0],\n",
              " [1, 2, 1, 0, 0, 0, 0, 0, 0, 0],\n",
              " [2, 2, 0, 0, 0, 0, 0, 0, 0, 0],\n",
              " [2, 2, 0, 0, 0, 0, 0, 0, 0, 0],\n",
              " [0, 4, 0, 0, 0, 0, 0, 0, 0, 0],\n",
              " [2, 2, 0, 0, 0, 0, 0, 0, 0, 0],\n",
              " [2, 2, 0, 0, 0, 0, 0, 0, 0, 0],\n",
              " [2, 2, 0, 0, 0, 0, 0, 0, 0, 0],\n",
              " [3, 0, 1, 0, 0, 0, 0, 0, 0, 0],\n",
              " [2, 2, 0, 0, 0, 0, 0, 0, 0, 0],\n",
              " [2, 2, 0, 0, 0, 0, 0, 0, 0, 0],\n",
              " [3, 0, 1, 0, 0, 0, 0, 0, 0, 0],\n",
              " [2, 2, 0, 0, 0, 0, 0, 0, 0, 0],\n",
              " [0, 4, 0, 0, 0, 0, 0, 0, 0, 0],\n",
              " [2, 1, 0, 1, 0, 0, 0, 0, 0, 0],\n",
              " [3, 0, 1, 0, 0, 0, 0, 0, 0, 0],\n",
              " [2, 1, 0, 1, 0, 0, 0, 0, 0, 0]]"
            ]
          },
          "metadata": {
            "tags": []
          },
          "execution_count": 30
        }
      ]
    },
    {
      "cell_type": "code",
      "metadata": {
        "id": "Xto0KcOsYtK9",
        "colab": {
          "base_uri": "https://localhost:8080/",
          "height": 373
        },
        "outputId": "361a2ab3-d0d2-4c42-eb41-1ee2edf3050c"
      },
      "source": [
        "visualizeActivityFrezuency(bestPlanner[1], activity, member)"
      ],
      "execution_count": null,
      "outputs": [
        {
          "output_type": "stream",
          "text": [
            "bestFrequency =  2\n"
          ],
          "name": "stdout"
        },
        {
          "output_type": "display_data",
          "data": {
            "image/png": "[encoded data removed]",
            "text/plain": [
              "<Figure size 1440x360 with 9 Axes>"
            ]
          },
          "metadata": {
            "tags": [],
            "needs_background": "light"
          }
        }
      ]
    },
    {
      "cell_type": "code",
      "metadata": {
        "id": "q_GOityaoRNB"
      },
      "source": [
        ""
      ],
      "execution_count": null,
      "outputs": []
    }
  ]
}